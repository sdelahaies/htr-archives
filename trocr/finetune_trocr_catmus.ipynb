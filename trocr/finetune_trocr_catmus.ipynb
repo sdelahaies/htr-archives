{
 "cells": [
  {
   "cell_type": "code",
   "execution_count": null,
   "metadata": {},
   "outputs": [],
   "source": [
    "from datasets import load_dataset\n",
    "\n",
    "# a couple of faulty samples creating trouble somewhere between 71400 and 72200, best avoid them \n",
    "train_ds=load_dataset('sylvain471/catmus-modern-processed',split='train[:71400]+train[72200:]')\n",
    "train_ds\n"
   ]
  },
  {
   "cell_type": "code",
   "execution_count": 3,
   "metadata": {},
   "outputs": [],
   "source": [
    "import torch\n",
    "from torch.utils.data import Dataset\n",
    "# from PIL import Image\n",
    "from io import BytesIO\n",
    "import base64\n",
    "from transformers import TrOCRProcessor\n",
    "from transformers import VisionEncoderDecoderModel\n",
    "from transformers import AutoTokenizer\n",
    "\n",
    "class IMCDataset(Dataset):\n",
    "    def __init__(self, ds, processor, max_target_length=64):\n",
    "        self.ds = ds\n",
    "        self.processor = processor\n",
    "        self.max_target_length = max_target_length\n",
    "\n",
    "    def __len__(self):\n",
    "        return len(self.ds)\n",
    "\n",
    "    def __getitem__(self, idx):\n",
    "        # print(ds['train'][idx])\n",
    "        text = self.ds[idx]['text']\n",
    "        image = self.ds[idx]['img_data'].convert(\"RGB\")\n",
    "        pixel_values = self.processor(image, return_tensors=\"pt\").pixel_values\n",
    "        labels = self.processor.tokenizer(text, \n",
    "                                          padding=\"max_length\",\n",
    "                                          truncation=True, \n",
    "                                          max_length=self.max_target_length).input_ids\n",
    "        # important: make sure that PAD tokens are ignored by the loss function\n",
    "        labels = [label if label != self.processor.tokenizer.pad_token_id else -100 for label in labels]\n",
    "        encoding = {\"pixel_values\": pixel_values.squeeze(), \"labels\": torch.tensor(labels)}\n",
    "        return encoding\n",
    "    \n",
    "\n",
    "# processor = TrOCRProcessor.from_pretrained('medieval-data/trocr-medieval-semitextualis')\n",
    "# model = VisionEncoderDecoderModel.from_pretrained('medieval-data/trocr-medieval-semitextualis')\n",
    "\n",
    "tokenizer = AutoTokenizer.from_pretrained(\"Riksarkivet/trocr-base-handwritten-swe\")\n",
    "processor = TrOCRProcessor.from_pretrained(\"Riksarkivet/trocr-base-handwritten-swe\")\n",
    "model = VisionEncoderDecoderModel.from_pretrained(\"Riksarkivet/trocr-base-handwritten-swe\")\n",
    "\n",
    "# processor = TrOCRProcessor.from_pretrained(\"Riksarkivet/trocr-base-handwritten-swe\")\n",
    "# model = VisionEncoderDecoderModel.from_pretrained(\"./catmus/checkpoint-3000\")\n",
    "\n",
    "# model = VisionEncoderDecoderModel.from_pretrained('agomberto/trocr-large-handwritten-fr')\n",
    "# processor = TrOCRProcessor.from_pretrained(\"sylvain471/troc-medieval-fr-3ch-imc\")\n",
    "\n",
    "train_dataset = IMCDataset(ds=train_ds,processor=processor)\n",
    "# eval_dataset = IMCDataset(ds=eval_ds,processor=processor)"
   ]
  },
  {
   "cell_type": "code",
   "execution_count": 4,
   "metadata": {},
   "outputs": [],
   "source": [
    "from transformers import Seq2SeqTrainer, Seq2SeqTrainingArguments\n",
    "from evaluate import load\n",
    "\n",
    "\n",
    "# set special tokens used for creating the decoder_input_ids from the labels\n",
    "model.config.decoder_start_token_id = processor.tokenizer.cls_token_id\n",
    "model.config.pad_token_id = processor.tokenizer.pad_token_id\n",
    "# make sure vocab size is set correctly\n",
    "model.config.vocab_size = model.config.decoder.vocab_size\n",
    "\n",
    "# set beam search parameters\n",
    "model.config.eos_token_id = processor.tokenizer.sep_token_id\n",
    "model.config.max_length = 64\n",
    "model.config.early_stopping = True\n",
    "model.config.no_repeat_ngram_size = 3\n",
    "model.config.length_penalty = 2.0\n",
    "model.config.num_beams = 4\n",
    "\n",
    "cer = load(\"cer\")\n",
    "\n",
    "def compute_metrics(pred):\n",
    "    global cer\n",
    "    labels_ids = pred.label_ids\n",
    "    pred_ids = pred.predictions\n",
    "\n",
    "    pred_str = processor.batch_decode(pred_ids, skip_special_tokens=True)\n",
    "    labels_ids[labels_ids == -100] = processor.tokenizer.pad_token_id\n",
    "    label_str = processor.batch_decode(labels_ids, skip_special_tokens=True)\n",
    "\n",
    "    cer_score = cer.compute(predictions=pred_str, references=label_str)\n",
    "    print(\"CER:\",cer_score)\n",
    "    return {\"cer\": cer_score}\n",
    "\n",
    "\n",
    "training_args = Seq2SeqTrainingArguments(\n",
    "    predict_with_generate=True,\n",
    "    # evaluation_strategy=\"steps\",\n",
    "    num_train_epochs=1,  \n",
    "    per_device_train_batch_size=8,\n",
    "    per_device_eval_batch_size=8,\n",
    "    # fp16=True, \n",
    "    bf16=True,\n",
    "    output_dir=\"./catmus\",\n",
    "    logging_steps=50,\n",
    "    save_steps=1500,\n",
    "    # eval_steps=100,\n",
    "    report_to='tensorboard',\n",
    "    gradient_accumulation_steps=4\n",
    "    # resume_from_checkpoint=\"./catmus/checkpoint-2000\"\n",
    ")"
   ]
  },
  {
   "cell_type": "code",
   "execution_count": null,
   "metadata": {},
   "outputs": [],
   "source": [
    "from transformers import default_data_collator\n",
    "\n",
    "# instantiate trainer\n",
    "trainer = Seq2SeqTrainer(\n",
    "    model=model,\n",
    "    tokenizer=processor.feature_extractor,\n",
    "    args=training_args,\n",
    "    compute_metrics=compute_metrics,\n",
    "    train_dataset=train_dataset,\n",
    "    # eval_dataset=eval_dataset,\n",
    "    data_collator=default_data_collator,\n",
    ")\n",
    "\n",
    "trainer.train()\n"
   ]
  },
  {
   "cell_type": "code",
   "execution_count": null,
   "metadata": {},
   "outputs": [
    {
     "data": {
      "text/plain": [
       "[]"
      ]
     },
     "execution_count": 8,
     "metadata": {},
     "output_type": "execute_result"
    }
   ],
   "source": [
    "model.save_pretrained(\"./catmus\")\n",
    "tokenizer.save_pretrained(\"./catmus\")\n",
    "processor.save_pretrained(\"./catmus\")"
   ]
  },
  {
   "cell_type": "markdown",
   "metadata": {},
   "source": [
    "## Push to hub"
   ]
  },
  {
   "cell_type": "code",
   "execution_count": null,
   "metadata": {},
   "outputs": [],
   "source": [
    "from dotenv import load_dotenv\n",
    "import os\n",
    "# Load environment variables from .env file\n",
    "load_dotenv()\n",
    "token=os.getenv(\"HF_TOKEN\")\n",
    "\n",
    "repo_name=\"<your_hf_repo>\"\n",
    "\n",
    "model.push_to_hub(repo_name,token=token)\n",
    "processor.push_to_hub(repo_name,token=token)\n",
    "tokenizer.push_to_hub(repo_name,token=token)"
   ]
  }
 ],
 "metadata": {
  "kernelspec": {
   "display_name": ".venv",
   "language": "python",
   "name": "python3"
  },
  "language_info": {
   "codemirror_mode": {
    "name": "ipython",
    "version": 3
   },
   "file_extension": ".py",
   "mimetype": "text/x-python",
   "name": "python",
   "nbconvert_exporter": "python",
   "pygments_lexer": "ipython3",
   "version": "3.11.9"
  }
 },
 "nbformat": 4,
 "nbformat_minor": 2
}
